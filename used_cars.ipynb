{
 "cells": [
  {
   "cell_type": "code",
   "execution_count": 26,
   "metadata": {},
   "outputs": [
    {
     "ename": "DriverNotFoundError",
     "evalue": "Driver for chrome was not found.",
     "output_type": "error",
     "traceback": [
      "\u001b[1;31m---------------------------------------------------------------------------\u001b[0m",
      "\u001b[1;31mDriverNotFoundError\u001b[0m                       Traceback (most recent call last)",
      "\u001b[1;32mc:\\Projects\\marketplace_scraper\\used_cars.ipynb Cell 1\u001b[0m line \u001b[0;36m8\n\u001b[0;32m      <a href='vscode-notebook-cell:/c%3A/Projects/marketplace_scraper/used_cars.ipynb#W0sZmlsZQ%3D%3D?line=4'>5</a>\u001b[0m \u001b[39mimport\u001b[39;00m \u001b[39mmatplotlib\u001b[39;00m\u001b[39m.\u001b[39;00m\u001b[39mpyplot\u001b[39;00m \u001b[39mas\u001b[39;00m \u001b[39mplt\u001b[39;00m\n\u001b[0;32m      <a href='vscode-notebook-cell:/c%3A/Projects/marketplace_scraper/used_cars.ipynb#W0sZmlsZQ%3D%3D?line=5'>6</a>\u001b[0m \u001b[39mimport\u001b[39;00m \u001b[39mtime\u001b[39;00m\n\u001b[1;32m----> <a href='vscode-notebook-cell:/c%3A/Projects/marketplace_scraper/used_cars.ipynb#W0sZmlsZQ%3D%3D?line=7'>8</a>\u001b[0m browser \u001b[39m=\u001b[39m Browser(\u001b[39m'\u001b[39;49m\u001b[39mchrome\u001b[39;49m\u001b[39m'\u001b[39;49m, executable_path \u001b[39m=\u001b[39;49m \u001b[39m'\u001b[39;49m\u001b[39mC:\u001b[39;49m\u001b[39m\\\\\u001b[39;49;00m\u001b[39mwebdrivers\u001b[39;49m\u001b[39m\\\\\u001b[39;49;00m\u001b[39mchromedriver-win64\u001b[39;49m\u001b[39m\\\\\u001b[39;49;00m\u001b[39mchromedriver.exe\u001b[39;49m\u001b[39m'\u001b[39;49m)\n\u001b[0;32m      <a href='vscode-notebook-cell:/c%3A/Projects/marketplace_scraper/used_cars.ipynb#W0sZmlsZQ%3D%3D?line=8'>9</a>\u001b[0m baseUrl \u001b[39m=\u001b[39m \u001b[39m\"\u001b[39m\u001b[39mhttps://www.facebook.com/marketplace/montreal/search?\u001b[39m\u001b[39m\"\u001b[39m\n\u001b[0;32m     <a href='vscode-notebook-cell:/c%3A/Projects/marketplace_scraper/used_cars.ipynb#W0sZmlsZQ%3D%3D?line=9'>10</a>\u001b[0m minPrice \u001b[39m=\u001b[39m \u001b[39m2000\u001b[39m\n",
      "File \u001b[1;32m~\\AppData\\Local\\Packages\\PythonSoftwareFoundation.Python.3.10_qbz5n2kfra8p0\\LocalCache\\local-packages\\Python310\\site-packages\\splinter\\browser.py:128\u001b[0m, in \u001b[0;36mBrowser\u001b[1;34m(driver_name, retry_count, config, *args, **kwargs)\u001b[0m\n\u001b[0;32m    125\u001b[0m     \u001b[39mraise\u001b[39;00m DriverNotFoundError(\u001b[39mf\u001b[39m\u001b[39m\"\u001b[39m\u001b[39m{\u001b[39;00mdriver_name\u001b[39m}\u001b[39;00m\u001b[39m is not a recognized driver.\u001b[39m\u001b[39m\"\u001b[39m)\n\u001b[0;32m    127\u001b[0m \u001b[39mif\u001b[39;00m driver \u001b[39mis\u001b[39;00m \u001b[39mNone\u001b[39;00m:\n\u001b[1;32m--> 128\u001b[0m     \u001b[39mraise\u001b[39;00m DriverNotFoundError(\u001b[39mf\u001b[39m\u001b[39m\"\u001b[39m\u001b[39mDriver for \u001b[39m\u001b[39m{\u001b[39;00mdriver_name\u001b[39m}\u001b[39;00m\u001b[39m was not found.\u001b[39m\u001b[39m\"\u001b[39m)\n\u001b[0;32m    130\u001b[0m \u001b[39mreturn\u001b[39;00m get_driver(driver, retry_count\u001b[39m=\u001b[39mretry_count, config\u001b[39m=\u001b[39mconfig, \u001b[39m*\u001b[39margs, \u001b[39m*\u001b[39m\u001b[39m*\u001b[39mkwargs)\n",
      "\u001b[1;31mDriverNotFoundError\u001b[0m: Driver for chrome was not found."
     ]
    }
   ],
   "source": [
    "from splinter import Browser\n",
    "from bs4 import BeautifulSoup as soup\n",
    "import re \n",
    "import pandas as pd\n",
    "import matplotlib.pyplot as plt\n",
    "import time\n",
    "\n",
    "browser = Browser('chrome', executable_path = 'C:\\\\webdrivers\\\\chromedriver-win64\\\\chromedriver.exe')\n",
    "baseUrl = \"https://www.facebook.com/marketplace/montreal/search?\"\n",
    "minPrice = 2000\n",
    "maxPrice = 25000\n",
    "daysListed = 7\n",
    "maxMileage = 100000\n",
    "minMileage = 20000\n",
    "maxYear = 2020\n",
    "minYear = 2000\n",
    "transmissionType = \"automatic\"\n",
    "make = \"Toyota\"\n",
    "model = \"Corolla\"\n",
    "\n",
    "url = f\"{baseUrl}minPrice={minPrice}&maxPrice={maxPrice}&daysSinceListed={daysListed}&maxMileage={maxMileage}&maxYear={maxYear}&minMileage={minMileage}&minYear={minYear}&transmissionType={transmissionType}&query={make}{model}&exact=false\"\n",
    "\n",
    "browser.visit(url)\n",
    "\n"
   ]
  }
 ],
 "metadata": {
  "kernelspec": {
   "display_name": "Python 3",
   "language": "python",
   "name": "python3"
  },
  "language_info": {
   "codemirror_mode": {
    "name": "ipython",
    "version": 3
   },
   "file_extension": ".py",
   "mimetype": "text/x-python",
   "name": "python",
   "nbconvert_exporter": "python",
   "pygments_lexer": "ipython3",
   "version": "3.10.11"
  }
 },
 "nbformat": 4,
 "nbformat_minor": 2
}
